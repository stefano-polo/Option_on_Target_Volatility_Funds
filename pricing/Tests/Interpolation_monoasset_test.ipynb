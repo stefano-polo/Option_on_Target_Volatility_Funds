{
 "cells": [
  {
   "cell_type": "markdown",
   "metadata": {},
   "source": [
    "# <span style=\"color:green\"> Monoasset test: Interpolation of market data </span>"
   ]
  },
  {
   "cell_type": "code",
   "execution_count": 23,
   "metadata": {},
   "outputs": [],
   "source": [
    "from pricing import EquityForwardCurve, DiscountingCurve, Black, ForwardVariance, Vanilla_PayOff, ACT_365\n",
    "import numpy as np\n",
    "import matplotlib.pyplot as plt\n",
    "from numpy import log, sqrt, exp\n",
    "from montecarlo import MC\n",
    "import lets_be_rational.LetsBeRational as lbr\n",
    "import xml.etree.ElementTree as ET\n",
    "from matplotlib import ticker \n",
    "from read_market import MarketDataReader\n",
    "from scipy.interpolate import interp1d"
   ]
  },
  {
   "cell_type": "code",
   "execution_count": 24,
   "metadata": {},
   "outputs": [
    {
     "name": "stdout",
     "output_type": "stream",
     "text": [
      "zero interest rate time grid [0.00000000e+00 2.73972603e-03 5.47945205e-03 8.21917808e-03\n",
      " 2.46575342e-02 4.38356164e-02 6.30136986e-02 9.31506849e-02\n",
      " 1.72602740e-01 2.57534247e-01 3.42465753e-01 4.24657534e-01\n",
      " 5.15068493e-01 5.91780822e-01 6.76712329e-01 7.31506849e-01\n",
      " 7.53424658e-01 9.83561644e-01 1.00547945e+00 1.23287671e+00\n",
      " 1.47945205e+00 1.72602740e+00 1.98082192e+00 2.01095890e+00\n",
      " 2.23013699e+00 3.00821918e+00 4.00821918e+00 5.00821918e+00\n",
      " 6.00821918e+00 7.00821918e+00 8.01369863e+00 9.01095890e+00\n",
      " 1.00109589e+01 1.10109589e+01 1.20136986e+01 1.30191781e+01\n",
      " 1.40164384e+01 1.50136986e+01 1.60164384e+01 1.70164384e+01\n",
      " 1.80164384e+01 1.90219178e+01 2.00191781e+01 2.10191781e+01\n",
      " 2.20191781e+01 2.30191781e+01 2.40273973e+01 2.50246575e+01\n",
      " 2.60219178e+01 2.70219178e+01 2.80246575e+01 2.90246575e+01\n",
      " 3.00301370e+01 3.10273973e+01 3.20273973e+01 3.30273973e+01\n",
      " 3.40273973e+01 3.50273973e+01 3.60328767e+01 3.70301370e+01\n",
      " 3.80301370e+01 3.90301370e+01 4.00328767e+01 5.00383562e+01\n",
      " 6.00465753e+01]\n",
      "zero interest rate:  [-4.05557707e-03 -4.05557707e-03 -4.05557758e-03 -4.05557775e-03\n",
      " -3.97681904e-03 -3.87837687e-03 -3.77820977e-03 -3.29259253e-03\n",
      " -3.17282407e-03 -2.96507444e-03 -2.75983248e-03 -2.55567630e-03\n",
      " -2.35165288e-03 -2.14832155e-03 -1.94486573e-03 -1.79972608e-03\n",
      " -1.86530911e-03 -2.55393086e-03 -2.59456780e-03 -3.01617612e-03\n",
      " -3.32044339e-03 -3.53848707e-03 -3.70002581e-03 -3.71356542e-03\n",
      " -3.81203534e-03 -3.65957808e-03 -3.54431146e-03 -3.31588862e-03\n",
      " -3.01416290e-03 -2.67038738e-03 -2.29435260e-03 -1.89796467e-03\n",
      " -1.49026154e-03 -1.07632704e-03 -6.70641373e-04 -2.90925206e-04\n",
      "  4.93779296e-05  3.46030120e-04  5.98080682e-04  8.05057537e-04\n",
      "  9.66208628e-04  1.08051270e-03  1.14510411e-03  1.17682507e-03\n",
      "  1.19216397e-03  1.19112295e-03  1.17349139e-03  1.13967026e-03\n",
      "  1.09355644e-03  1.04042650e-03  9.82402629e-04  9.21975637e-04\n",
      "  8.60836242e-04  8.01374697e-04  7.42619909e-04  6.84114999e-04\n",
      "  6.25241530e-04  5.65381403e-04  5.03770118e-04  4.41591004e-04\n",
      "  3.78698096e-04  3.15787553e-04  2.53214462e-04 -3.01737282e-04\n",
      " -6.72056987e-04]\n",
      "zero interest rate time grid [0.00000000e+00 2.73972603e-03 5.47945205e-03 8.21917808e-03\n",
      " 2.46575342e-02 4.38356164e-02 6.30136986e-02 9.31506849e-02\n",
      " 1.72602740e-01 2.57534247e-01 3.42465753e-01 4.24657534e-01\n",
      " 5.15068493e-01 5.91780822e-01 6.76712329e-01 7.31506849e-01\n",
      " 7.53424658e-01 9.83561644e-01 1.00547945e+00 1.23287671e+00\n",
      " 1.47945205e+00 1.72602740e+00 1.98082192e+00 2.01095890e+00\n",
      " 2.23013699e+00 3.00821918e+00 4.00821918e+00 5.00821918e+00\n",
      " 6.00821918e+00 7.00821918e+00 8.01369863e+00 9.01095890e+00\n",
      " 1.00109589e+01 1.10109589e+01 1.20136986e+01 1.30191781e+01\n",
      " 1.40164384e+01 1.50136986e+01 1.60164384e+01 1.70164384e+01\n",
      " 1.80164384e+01 1.90219178e+01 2.00191781e+01 2.10191781e+01\n",
      " 2.20191781e+01 2.30191781e+01 2.40273973e+01 2.50246575e+01\n",
      " 2.60219178e+01 2.70219178e+01 2.80246575e+01 2.90246575e+01\n",
      " 3.00301370e+01 3.10273973e+01 3.20273973e+01 3.30273973e+01\n",
      " 3.40273973e+01 3.50273973e+01 3.60328767e+01 3.70301370e+01\n",
      " 3.80301370e+01 3.90301370e+01 4.00328767e+01 5.00383562e+01\n",
      " 6.00465753e+01]\n",
      "zero interest rate:  [-4.05557707e-03 -4.05557707e-03 -4.05557758e-03 -4.05557775e-03\n",
      " -3.97681904e-03 -3.87837687e-03 -3.77820977e-03 -3.29259253e-03\n",
      " -3.17282407e-03 -2.96507444e-03 -2.75983248e-03 -2.55567630e-03\n",
      " -2.35165288e-03 -2.14832155e-03 -1.94486573e-03 -1.79972608e-03\n",
      " -1.86530911e-03 -2.55393086e-03 -2.59456780e-03 -3.01617612e-03\n",
      " -3.32044339e-03 -3.53848707e-03 -3.70002581e-03 -3.71356542e-03\n",
      " -3.81203534e-03 -3.65957808e-03 -3.54431146e-03 -3.31588862e-03\n",
      " -3.01416290e-03 -2.67038738e-03 -2.29435260e-03 -1.89796467e-03\n",
      " -1.49026154e-03 -1.07632704e-03 -6.70641373e-04 -2.90925206e-04\n",
      "  4.93779296e-05  3.46030120e-04  5.98080682e-04  8.05057537e-04\n",
      "  9.66208628e-04  1.08051270e-03  1.14510411e-03  1.17682507e-03\n",
      "  1.19216397e-03  1.19112295e-03  1.17349139e-03  1.13967026e-03\n",
      "  1.09355644e-03  1.04042650e-03  9.82402629e-04  9.21975637e-04\n",
      "  8.60836242e-04  8.01374697e-04  7.42619909e-04  6.84114999e-04\n",
      "  6.25241530e-04  5.65381403e-04  5.03770118e-04  4.41591004e-04\n",
      "  3.78698096e-04  3.15787553e-04  2.53214462e-04 -3.01737282e-04\n",
      " -6.72056987e-04]\n",
      "Forward repo time grid [0.         0.48767123 1.48493151 2.48219178 3.47945205 4.49589041\n",
      " 5.49315068]\n",
      "Forward repo rate:  [0.0039     0.0039     0.0041978  0.0043489  0.0038511  0.00365768\n",
      " 0.00344918]\n",
      "Forward repo time grid [0.         0.48767123 1.48493151 2.48219178 3.47945205 4.49589041\n",
      " 5.49315068]\n",
      "Forward repo rate:  [-0.002 -0.002 -0.002 -0.002 -0.002 -0.002 -0.002]\n",
      "Forward repo time grid [0.         0.48767123 1.48493151 2.48219178 3.47945205 4.49589041\n",
      " 5.49315068]\n",
      "Forward repo rate:  [-0.002 -0.002 -0.002 -0.002 -0.002 -0.002 -0.002]\n",
      "Forward repo time grid [0.         0.48767123 1.48493151 2.48219178 3.47945205 4.49589041\n",
      " 5.49315068]\n",
      "Forward repo rate:  [-0.002 -0.002 -0.002 -0.002 -0.002 -0.002 -0.002]\n",
      "Forward repo time grid [0.         0.48767123 1.48493151 2.48219178 3.47945205 4.49589041\n",
      " 5.49315068]\n",
      "Forward repo rate:  [-0.0029 -0.0029 -0.0029 -0.0029 -0.0029 -0.0029 -0.0029]\n",
      "Forward repo time grid [0.         0.00273973]\n",
      "Forward repo rate:  [0. 0.]\n",
      "Forward repo time grid [0.         0.00273973]\n",
      "Forward repo rate:  [0. 0.]\n",
      "Forward repo time grid [0.         0.00273973]\n",
      "Forward repo rate:  [0. 0.]\n",
      "Forward repo time grid [0.         0.00273973]\n",
      "Forward repo rate:  [0. 0.]\n",
      "Forward repo time grid [0.         0.00273973]\n",
      "Forward repo rate:  [0. 0.]\n",
      "zero interest rate time grid [0.00000000e+00 2.73972603e-03 5.47945205e-03 8.21917808e-03\n",
      " 2.46575342e-02 4.38356164e-02 6.30136986e-02 9.31506849e-02\n",
      " 1.72602740e-01 2.57534247e-01 3.42465753e-01 4.24657534e-01\n",
      " 5.15068493e-01 5.91780822e-01 6.76712329e-01 7.31506849e-01\n",
      " 7.53424658e-01 9.83561644e-01 1.00547945e+00 1.23287671e+00\n",
      " 1.47945205e+00 1.72602740e+00 1.98082192e+00 2.01095890e+00\n",
      " 2.23013699e+00 3.00821918e+00 4.00821918e+00 5.00821918e+00\n",
      " 6.00821918e+00 7.00821918e+00 8.01369863e+00 9.01095890e+00\n",
      " 1.00109589e+01 1.10109589e+01 1.20136986e+01 1.30191781e+01\n",
      " 1.40164384e+01 1.50136986e+01 1.60164384e+01 1.70164384e+01\n",
      " 1.80164384e+01 1.90219178e+01 2.00191781e+01 2.10191781e+01\n",
      " 2.20191781e+01 2.30191781e+01 2.40273973e+01 2.50246575e+01\n",
      " 2.60219178e+01 2.70219178e+01 2.80246575e+01 2.90246575e+01\n",
      " 3.00301370e+01 3.10273973e+01 3.20273973e+01 3.30273973e+01\n",
      " 3.40273973e+01 3.50273973e+01 3.60328767e+01 3.70301370e+01\n",
      " 3.80301370e+01 3.90301370e+01 4.00328767e+01 5.00383562e+01\n",
      " 6.00465753e+01]\n",
      "zero interest rate:  [-4.05557707e-03 -4.05557707e-03 -4.05557758e-03 -4.05557775e-03\n",
      " -3.97681904e-03 -3.87837687e-03 -3.77820977e-03 -3.29259253e-03\n",
      " -3.17282407e-03 -2.96507444e-03 -2.75983248e-03 -2.55567630e-03\n",
      " -2.35165288e-03 -2.14832155e-03 -1.94486573e-03 -1.79972608e-03\n",
      " -1.86530911e-03 -2.55393086e-03 -2.59456780e-03 -3.01617612e-03\n",
      " -3.32044339e-03 -3.53848707e-03 -3.70002581e-03 -3.71356542e-03\n",
      " -3.81203534e-03 -3.65957808e-03 -3.54431146e-03 -3.31588862e-03\n",
      " -3.01416290e-03 -2.67038738e-03 -2.29435260e-03 -1.89796467e-03\n",
      " -1.49026154e-03 -1.07632704e-03 -6.70641373e-04 -2.90925206e-04\n",
      "  4.93779296e-05  3.46030120e-04  5.98080682e-04  8.05057537e-04\n",
      "  9.66208628e-04  1.08051270e-03  1.14510411e-03  1.17682507e-03\n",
      "  1.19216397e-03  1.19112295e-03  1.17349139e-03  1.13967026e-03\n",
      "  1.09355644e-03  1.04042650e-03  9.82402629e-04  9.21975637e-04\n",
      "  8.60836242e-04  8.01374697e-04  7.42619909e-04  6.84114999e-04\n",
      "  6.25241530e-04  5.65381403e-04  5.03770118e-04  4.41591004e-04\n",
      "  3.78698096e-04  3.15787553e-04  2.53214462e-04 -3.01737282e-04\n",
      " -6.72056987e-04]\n",
      "Forward repo time grid [0.         0.48767123 1.48493151 2.48219178 3.47945205 4.49589041\n",
      " 5.49315068]\n",
      "Forward repo rate:  [0.0039     0.0039     0.0041978  0.0043489  0.0038511  0.00365768\n",
      " 0.00344918]\n",
      "Forward repo time grid [0.         0.48767123 1.48493151 2.48219178 3.47945205 4.49589041\n",
      " 5.49315068]\n",
      "Forward repo rate:  [-0.002 -0.002 -0.002 -0.002 -0.002 -0.002 -0.002]\n",
      "Forward repo time grid [0.         0.48767123 1.48493151 2.48219178 3.47945205 4.49589041\n",
      " 5.49315068]\n",
      "Forward repo rate:  [-0.002 -0.002 -0.002 -0.002 -0.002 -0.002 -0.002]\n",
      "Forward repo time grid [0.         0.48767123 1.48493151 2.48219178 3.47945205 4.49589041\n",
      " 5.49315068]\n",
      "Forward repo rate:  [-0.002 -0.002 -0.002 -0.002 -0.002 -0.002 -0.002]\n",
      "Forward repo time grid [0.         0.48767123 1.48493151 2.48219178 3.47945205 4.49589041\n",
      " 5.49315068]\n",
      "Forward repo rate:  [-0.0029 -0.0029 -0.0029 -0.0029 -0.0029 -0.0029 -0.0029]\n",
      "Forward repo time grid [0.         0.00273973]\n",
      "Forward repo rate:  [0. 0.]\n",
      "Forward repo time grid [0.         0.00273973]\n",
      "Forward repo rate:  [0. 0.]\n",
      "Forward repo time grid [0.         0.00273973]\n",
      "Forward repo rate:  [0. 0.]\n",
      "Forward repo time grid [0.         0.00273973]\n",
      "Forward repo rate:  [0. 0.]\n",
      "Forward repo time grid [0.         0.00273973]\n",
      "Forward repo rate:  [0. 0.]\n",
      "Forward volatility time grid:  [0.         0.06575342 0.16164384 0.23835616 0.48767123 0.7369863\n",
      " 0.98630137 1.48493151 1.98356164 2.48219178 3.47945205 4.49589041\n",
      " 5.49315068 6.49041096 7.48767123 8.48493151 9.50136986]\n",
      "Forward volatility:  [0.17968289 0.17870522 0.17748225 0.17470943 0.17515519 0.17484981\n",
      " 0.17665296 0.17780804 0.17903581 0.18017101 0.18287881 0.1804832\n",
      " 0.18074887 0.18153643 0.18184785 0.18067741 0.18023683]\n",
      "Forward volatility time grid:  [0.         0.06575342 0.16164384 0.23835616 0.48767123 0.56438356\n",
      " 0.7369863  0.98630137 1.48493151 1.58082192 1.98356164 2.48219178\n",
      " 3.47945205 4.49589041 4.57260274 5.56986301]\n",
      "Forward volatility:  [0.23322252 0.24209823 0.25181046 0.24987572 0.22098048 0.22660849\n",
      " 0.21462688 0.20123583 0.21178323 0.20566381 0.19995376 0.20156554\n",
      " 0.21512117 0.24636786 0.26956897 0.27118546]\n",
      "Forward volatility time grid:  [0.         0.06575342 0.16164384 0.23835616 0.56438356 0.7369863\n",
      " 0.98630137 1.58082192 1.98356164 2.57808219 3.57534247 4.57260274\n",
      " 5.56986301]\n",
      "Forward volatility:  [0.21636903 0.21553394 0.21463342 0.21245637 0.21090235 0.20975708\n",
      " 0.20455645 0.21500877 0.21757001 0.22630644 0.22001057 0.22090106\n",
      " 0.21712811]\n",
      "Forward volatility time grid:  [0.         0.24657534 1.2630137  2.26027397 3.25753425 4.25479452]\n",
      "Forward volatility:  [0.14312087 0.14841947 0.14898182 0.1481     0.1481     0.1481    ]\n",
      "Forward volatility time grid:  [0.         0.06575342 0.16164384 0.23835616 0.48767123 0.7369863\n",
      " 0.98630137 1.48493151 1.98356164 2.48219178 3.47945205 4.49589041\n",
      " 5.49315068 6.49041096 7.48767123]\n",
      "Forward volatility:  [0.26154888 0.25369487 0.25360917 0.25355303 0.22362687 0.20953857\n",
      " 0.22611011 0.21869576 0.21431062 0.21815781 0.21540962 0.21173432\n",
      " 0.21829587 0.21836657 0.21763307]\n",
      "Forward volatility time grid:  [0.         0.06575342 0.16164384 0.23835616 0.48767123 0.7369863\n",
      " 0.98630137 1.48493151 1.98356164 2.48219178 3.47945205 4.49589041\n",
      " 5.49315068 6.49041096 7.48767123]\n",
      "Forward volatility:  [0.16452748 0.16529801 0.16611426 0.16760795 0.1718338  0.17592029\n",
      " 0.18166716 0.18119898 0.18441232 0.18725112 0.19150965 0.18434888\n",
      " 0.18411985 0.18355699 0.1826337 ]\n",
      "Forward volatility time grid:  [0.         0.06575342 0.16164384 0.23835616 0.48767123 0.7369863\n",
      " 0.98630137 1.48493151 1.98356164 2.48219178 3.47945205 4.49589041\n",
      " 5.49315068 6.49041096 7.48767123]\n",
      "Forward volatility:  [0.11676741 0.11698138 0.11720849 0.11761419 0.12033021 0.12266703\n",
      " 0.12592207 0.13132706 0.13597567 0.14055767 0.18892803 0.14667329\n",
      " 0.14659678 0.14625884 0.14569312]\n",
      "Forward volatility time grid:  [0.         0.06575342 0.16164384 0.23835616 0.48767123 0.7369863\n",
      " 0.98630137 1.48493151 1.98356164 2.48219178 3.47945205 4.49589041\n",
      " 5.49315068 6.49041096]\n",
      "Forward volatility:  [0.21874977 0.21863145 0.21850154 0.21821947 0.2155496  0.21404237\n",
      " 0.21440056 0.21193466 0.21098553 0.21356598 0.21313967 0.21339541\n",
      " 0.21385603 0.21533657]\n",
      "Forward volatility time grid:  [0.         0.06575342 0.16164384 0.23835616 0.48767123 0.7369863\n",
      " 0.98630137 1.48493151 1.98356164 2.48219178 3.47945205 4.49589041\n",
      " 5.49315068 6.49041096 7.48767123]\n",
      "Forward volatility:  [0.17923788 0.18352409 0.18775988 0.19532903 0.19227511 0.19372562\n",
      " 0.19595285 0.1973351  0.19947073 0.20152084 0.19760054 0.19764633\n",
      " 0.19755674 0.19733751 0.19697889]\n",
      "Forward volatility time grid:  [0.         0.06575342 0.16164384 0.23835616 0.48767123 0.7369863\n",
      " 0.98630137 1.48493151 1.98356164 2.48219178 3.47945205 4.49589041\n",
      " 5.49315068 6.49041096 7.48767123]\n",
      "Forward volatility:  [0.21744713 0.21801571 0.21861694 0.2197172  0.2194934  0.22016373\n",
      " 0.2208693  0.22182304 0.22245561 0.23113676 0.23186651 0.22600424\n",
      " 0.22594219 0.22579049 0.22554251]\n"
     ]
    }
   ],
   "source": [
    "reader = MarketDataReader(\"TV_example.xml\")\n",
    "correlation_matrix = reader.get_correlation()\n",
    "N_equity = len(correlation_matrix)\n",
    "names = reader.get_stock_names()\n",
    "spot_prices = reader.get_spot_prices()\n",
    "D = reader.get_discounts()\n",
    "F = reader.get_forward_curves()\n",
    "V = reader.get_volatilities()"
   ]
  },
  {
   "cell_type": "code",
   "execution_count": 25,
   "metadata": {},
   "outputs": [],
   "source": [
    "i = 0\n",
    "F = F[i]\n",
    "V = V[i]"
   ]
  },
  {
   "cell_type": "code",
   "execution_count": 26,
   "metadata": {},
   "outputs": [],
   "source": [
    "tree = ET.parse('TV_example.xml')\n",
    "root = tree.getroot()"
   ]
  },
  {
   "cell_type": "code",
   "execution_count": 27,
   "metadata": {},
   "outputs": [],
   "source": [
    "index_equity = [i+1]\n",
    "reference_date = float(root[3][1][0][0][2][0].text)\n",
    "spot_vol = np.array([])\n",
    "for i in index_equity:\n",
    "    vola_dates = np.zeros(len(root[3][i+3][1][2][0][0]))\n",
    "    vola_strikes = np.zeros(len(root[3][i+3][1][2][2][0]))\n",
    "    for j in range(len(root[3][i+3][1][2][0][0])):\n",
    "        vola_dates[j] = float(root[3][i+3][1][2][0][0][j].text)\n",
    "    for j in range(len(root[3][i+3][1][2][2][0])):\n",
    "        vola_strikes[j] = float(root[3][i+3][1][2][2][0][j].text)\n",
    "    market_vola = np.zeros(len(root[3][i+3][1][2][0][0])*len(root[3][i+3][1][2][2][0]))\n",
    "    for k in range (len(market_vola)):\n",
    "        market_vola[k] = float(root[3][i+3][1][2][1][0][k].text)\n",
    "    market_vola = np.reshape(market_vola,(len(vola_dates),len(vola_strikes)))\n",
    "    maturities = ACT_365(vola_dates,reference_date)\n",
    "    matrix_interpolated = interp1d(vola_strikes,market_vola,axis=1)(F(maturities))\n",
    "    for i in range (len(maturities)):\n",
    "        spot_vol = np.append(spot_vol,matrix_interpolated[i,i])"
   ]
  },
  {
   "cell_type": "markdown",
   "metadata": {},
   "source": [
    "### Parameters of Simulation"
   ]
  },
  {
   "cell_type": "code",
   "execution_count": 28,
   "metadata": {},
   "outputs": [],
   "source": [
    "t = 0\n",
    "N_simulations = 6e5\n",
    "T_max = 10\n",
    "r = 1./100"
   ]
  },
  {
   "cell_type": "markdown",
   "metadata": {},
   "source": [
    "### Market Data"
   ]
  },
  {
   "cell_type": "raw",
   "metadata": {},
   "source": [
    "font = 12\n",
    "fig, ax = plt.subplots(1, 1, figsize=(7, 5))\n",
    "x = np.linspace(0.,V.T[-1],1000)\n",
    "plt.plot(x,D.r(x))\n",
    "plt.xlabel(\"$t$ [yr]\",fontsize=font)\n",
    "plt.ylabel(\"$R(t)$\",fontsize=font)\n",
    "plt.title('Zero interest rate',fontsize=font)\n",
    "ax.yaxis.set_major_formatter(ticker.PercentFormatter(1))\n",
    "plt.savefig('Time_dep/Zero_rate.pdf',bbox_inches='tight')\n",
    "plt.show()"
   ]
  },
  {
   "cell_type": "raw",
   "metadata": {},
   "source": [
    "font = 12\n",
    "fig, ax = plt.subplots(1, 1, figsize=(7, 5))\n",
    "time = F.T.tolist()\n",
    "repo = F.q_values.tolist()\n",
    "time.insert(len(time),V.T[-1])\n",
    "repo.insert(len(time),F.q_values[-1])\n",
    "plt.step(time, repo, color=\"red\")\n",
    "plt.xlabel(\"$t$ [yr]\",fontsize=font)\n",
    "plt.ylabel(\"$\\mu(t)$\",fontsize=font)\n",
    "plt.title('XVA',fontsize=font)\n",
    "ax.yaxis.set_major_formatter(ticker.PercentFormatter(1))\n",
    "plt.savefig('Time_dep/XVA.pdf',bbox_inches='tight')\n"
   ]
  },
  {
   "cell_type": "raw",
   "metadata": {},
   "source": [
    "\"\"\"Time dependent volatility\"\"\"\n",
    "fig, ax = plt.subplots(1, 1, figsize=(7, 5))\n",
    "time = V.T.tolist()\n",
    "vola = V.forward_vol.tolist()\n",
    "time = V.T.tolist()\n",
    "vola = V.forward_vol.tolist()\n",
    "plt.step(time, vola,where='post',c='xkcd:purple')\n",
    "plt.xlabel(\"$t$ [yr]\",fontsize=font)\n",
    "plt.ylabel(r'$\\sigma (t)$',fontsize=font)\n",
    "plt.title('Volatility',fontsize=font)\n",
    "ax.yaxis.set_major_formatter(ticker.PercentFormatter(1))\n",
    "plt.savefig('Time_dep/volatility.pdf',bbox_inches='tight')\n",
    "plt.show()"
   ]
  },
  {
   "cell_type": "markdown",
   "metadata": {},
   "source": [
    "### Simulation"
   ]
  },
  {
   "cell_type": "code",
   "execution_count": 29,
   "metadata": {},
   "outputs": [],
   "source": [
    "BS = Black(forward_curve=F,variance=V)"
   ]
  },
  {
   "cell_type": "code",
   "execution_count": 30,
   "metadata": {},
   "outputs": [
    {
     "name": "stdout",
     "output_type": "stream",
     "text": [
      "Single Asset Simulation\n"
     ]
    }
   ],
   "source": [
    "S_t = BS.simulate(Nsim=N_simulations,fixings=maturities)\n",
    "kind = 1"
   ]
  },
  {
   "cell_type": "code",
   "execution_count": 31,
   "metadata": {},
   "outputs": [],
   "source": [
    "X_t = S_t/F(maturities)\n",
    "pay = Vanilla_PayOff(St=X_t, strike=1, typo=kind)\n",
    "result,err = MC(pay)\n",
    "E = np.mean(X_t,axis=0)\n",
    "T = maturities"
   ]
  },
  {
   "cell_type": "code",
   "execution_count": 32,
   "metadata": {},
   "outputs": [],
   "source": [
    "imp_volatility = np.zeros(len(T))\n",
    "imp_volatility_plus = np.zeros(len(T))\n",
    "imp_volatility_minus = np.zeros(len(T))\n",
    "for i in range (len(T)):\n",
    "    imp_volatility[i] = lbr.implied_volatility_from_a_transformed_rational_guess(result[i],E[i],1,T[i],kind)\n",
    "    imp_volatility_minus[i] = lbr.implied_volatility_from_a_transformed_rational_guess(result[i]-err[i],E[i],1,T[i],kind)\n",
    "    imp_volatility_plus[i] = lbr.implied_volatility_from_a_transformed_rational_guess(result[i]+err[i],E[i],1,T[i],kind)"
   ]
  },
  {
   "cell_type": "code",
   "execution_count": 33,
   "metadata": {},
   "outputs": [],
   "source": [
    "y_lower = np.zeros(len(T))\n",
    "y_upper =np.zeros(len(T))\n",
    "for i in range(len(T)):\n",
    "    if(imp_volatility_minus[i]<imp_volatility_plus[i]):\n",
    "        y_lower[i]= abs(imp_volatility[i]-imp_volatility_minus[i])\n",
    "        y_upper[i]= abs(imp_volatility_plus[i]-imp_volatility[i])\n",
    "    elif(imp_volatility_minus[i]>imp_volatility_plus[i]):\n",
    "        y_lower[i][j] = abs(imp_volatility[i][j]-imp_volatility_plus[i])\n",
    "        y_upper[i][j] = abs(imp_volatility_minus[i]-imp_volatility[i])"
   ]
  },
  {
   "cell_type": "code",
   "execution_count": 34,
   "metadata": {},
   "outputs": [
    {
     "data": {
      "image/png": "[encoded data removed]",
      "text/plain": [
       "<Figure size 504x360 with 1 Axes>"
      ]
     },
     "metadata": {
      "needs_background": "light"
     },
     "output_type": "display_data"
    }
   ],
   "source": [
    "fig, ax = plt.subplots(1, 1, figsize=(7, 5))\n",
    "plt.plot(T,spot_vol,'--')\n",
    "plt.scatter(T,spot_vol,c='red')\n",
    "plt.ylabel(\"$\\sigma_{market}$\",fontsize=font)\n",
    "plt.xlabel(\"Maturity [yr]\",fontsize=font)\n",
    "ax.yaxis.set_major_formatter(ticker.PercentFormatter(1))\n",
    "plt.title(\"Spot volatilities\",fontsize=font)\n",
    "#plt.savefig('Time_dep/spot_volatility.pdf',bbox_inches='tight')\n",
    "plt.show()"
   ]
  },
  {
   "cell_type": "code",
   "execution_count": 35,
   "metadata": {},
   "outputs": [
    {
     "data": {
      "image/png": "[encoded data removed]",
      "text/plain": [
       "<Figure size 504x360 with 1 Axes>"
      ]
     },
     "metadata": {
      "needs_background": "light"
     },
     "output_type": "display_data"
    }
   ],
   "source": [
    "fig, ax = plt.subplots(1, 1, figsize=(7, 5))\n",
    "n_sigma = 1\n",
    "plt.errorbar(T,abs(imp_volatility-spot_vol),yerr=[n_sigma*y_lower,n_sigma*y_upper], fmt = \"o\", label = \"Monte Carlo\")\n",
    "plt.axhline(y=0, color = 'red',alpha = 0.9,linestyle='-.',label = 'Target')\n",
    "plt.xlabel(\"Maturity [yr]\")\n",
    "plt.ylabel(\"|IV - $\\sigma_{market}$|\")\n",
    "ax.yaxis.set_major_formatter(ticker.PercentFormatter(1))\n",
    "plt.grid(True)\n",
    "\n",
    "plt.show()"
   ]
  }
 ],
 "metadata": {
  "kernelspec": {
   "display_name": "Python 3",
   "language": "python",
   "name": "python3"
  },
  "language_info": {
   "codemirror_mode": {
    "name": "ipython",
    "version": 3
   },
   "file_extension": ".py",
   "mimetype": "text/x-python",
   "name": "python",
   "nbconvert_exporter": "python",
   "pygments_lexer": "ipython3",
   "version": "3.6.8"
  }
 },
 "nbformat": 4,
 "nbformat_minor": 2
}
