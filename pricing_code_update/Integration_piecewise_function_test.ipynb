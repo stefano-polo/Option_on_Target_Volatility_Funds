{
 "cells": [
  {
   "cell_type": "code",
   "execution_count": 5,
   "metadata": {},
   "outputs": [],
   "source": [
    "import numpy as np\n",
    "import matplotlib.pyplot as plt\n",
    "from pricing import EquityForwardCurve, ForwardVariance, DiscountingCurve,piecewise_function,Vanilla_PayOff,PricingModel, piecewise_function\n",
    "from numpy import exp, sqrt, log\n",
    "from scipy.interpolate import interp1d\n",
    "import lets_be_rational.LetsBeRational as lbr\n",
    "import time, sys\n",
    "from montecarlo import MC_Analisys, MC\n",
    "from matplotlib import ticker\n",
    "from scipy.integrate import quad\n",
    "from targetvol import time_grid_union, Drift, CholeskyTDependent, Strategy,TVSForwardCurve ,TargetVolatilityStrategy,Markowitz_solution,loss_function\n",
    "from numpy.linalg import cholesky"
   ]
  },
  {
   "cell_type": "code",
   "execution_count": 12,
   "metadata": {},
   "outputs": [],
   "source": [
    "def quad_piecewise(f, time_grid, t_in, t_fin, vectorial=0):\n",
    "    \"\"\"integral of a piecewise constant function\"\"\"\n",
    "    dt = np.array([])\n",
    "    if t_in == t_fin:\n",
    "        return 0\n",
    "    if t_fin in time_grid:\n",
    "        time_grid = time_grid[np.where(time_grid<=t_fin)[0]]\n",
    "    if t_in in time_grid:\n",
    "        time_grid = time_grid[np.where(time_grid>=t_in)[0]]\n",
    "    if t_in not in time_grid:\n",
    "        time_grid = time_grid[np.where(time_grid>t_in)[0]]\n",
    "        time_grid = np.insert(time_grid,0,t_in)\n",
    "    if t_fin not in time_grid:\n",
    "        time_grid = time_grid[np.where(time_grid<t_fin)[0]]\n",
    "        time_grid = np.insert(time_grid,len(time_grid),t_fin)\n",
    "    if vectorial:\n",
    "        y = np.array([])\n",
    "        for i in range(1,len(time_grid)):\n",
    "            y = np.append(y,f(time_grid[i]))\n",
    "    else:\n",
    "        y = f(time_grid[1:])\n",
    "    dt = np.diff(time_grid)\n",
    "    return np.sum(y*dt)\n",
    "\n",
    "\n",
    "def quad_piecewise_old(f, time_grid, t_in, t_fin):\n",
    "    \"\"\"integral of a piecewise constant function\"\"\"\n",
    "    y = np.array([])\n",
    "    dt = np.array([])\n",
    "    if t_in == t_fin:\n",
    "        return 0\n",
    "    if t_fin in time_grid:\n",
    "        time_grid = time_grid[np.where(time_grid<=t_fin)[0]]\n",
    "    if t_in in time_grid:\n",
    "        time_grid = time_grid[np.where(time_grid>=t_in)[0]]\n",
    "    if t_in not in time_grid:\n",
    "        time_grid = time_grid[np.where(time_grid>t_in)[0]]\n",
    "        time_grid = np.insert(time_grid,0,t_in)\n",
    "    if t_fin not in time_grid:\n",
    "        time_grid = time_grid[np.where(time_grid<t_fin)[0]]\n",
    "        time_grid = np.insert(time_grid,len(time_grid),t_fin)\n",
    "    for i in range(len(time_grid)-1):\n",
    "        y = np.append(y,f(time_grid[i]))\n",
    "    dt = np.diff(time_grid)\n",
    "    return np.sum(y*dt)"
   ]
  },
  {
   "cell_type": "markdown",
   "metadata": {},
   "source": [
    "#### Test with a simple step function"
   ]
  },
  {
   "cell_type": "code",
   "execution_count": 13,
   "metadata": {},
   "outputs": [],
   "source": [
    "T = np.array([1,2,3,4.5,6])\n",
    "step = np.array([0.2,0.3,0.24,0.7,0.5])\n",
    "f = interp1d(T,step, kind='next',fill_value=\"extrapolate\", assume_sorted=False)"
   ]
  },
  {
   "cell_type": "code",
   "execution_count": 14,
   "metadata": {},
   "outputs": [
    {
     "data": {
      "image/png": "[encoded data removed]",
      "text/plain": [
       "<Figure size 432x288 with 1 Axes>"
      ]
     },
     "metadata": {
      "needs_background": "light"
     },
     "output_type": "display_data"
    }
   ],
   "source": [
    "x = np.linspace(0.1,5,20)\n",
    "my = np.array([])\n",
    "theo = np.array([])\n",
    "for i in x:\n",
    "    my = np.append(my,quad_piecewise(f,T,0,i))\n",
    "    theo = np.append(theo, quad(f,0,i,limit=500)[0])\n",
    "    \n",
    "plt.scatter(x,abs(my-theo))\n",
    "plt.show()"
   ]
  },
  {
   "cell_type": "code",
   "execution_count": 17,
   "metadata": {},
   "outputs": [
    {
     "data": {
      "image/png": "[encoded data removed]",
      "text/plain": [
       "<Figure size 432x288 with 1 Axes>"
      ]
     },
     "metadata": {
      "needs_background": "light"
     },
     "output_type": "display_data"
    },
    {
     "name": "stdout",
     "output_type": "stream",
     "text": [
      "CPU times: user 1.9 s, sys: 19.4 ms, total: 1.92 s\n",
      "Wall time: 1.89 s\n"
     ]
    }
   ],
   "source": [
    "%%time\n",
    "T = np.array([1,2,3,4.5,6])\n",
    "step = np.array([0.2,0.3,0.24,0.7,0.5])\n",
    "\n",
    "f = lambda x: piecewise_function(x,T,step)\n",
    "x = np.linspace(0.1,5,20)\n",
    "my = np.array([])\n",
    "theo = np.array([])\n",
    "for i in x:\n",
    "    my = np.append(my,quad_piecewise_old(f,T,0,i))\n",
    "    theo = np.append(theo, quad(f,0,i,limit=500)[0])\n",
    "    \n",
    "plt.scatter(x,abs(my-theo))\n",
    "plt.show()"
   ]
  },
  {
   "cell_type": "code",
   "execution_count": 19,
   "metadata": {},
   "outputs": [
    {
     "data": {
      "image/png": "[encoded data removed]",
      "text/plain": [
       "<Figure size 432x288 with 1 Axes>"
      ]
     },
     "metadata": {
      "needs_background": "light"
     },
     "output_type": "display_data"
    },
    {
     "name": "stdout",
     "output_type": "stream",
     "text": [
      "CPU times: user 1.52 s, sys: 8.03 ms, total: 1.53 s\n",
      "Wall time: 1.52 s\n"
     ]
    }
   ],
   "source": [
    "%%time\n",
    "x = np.linspace(0.1,5,20)\n",
    "my = np.array([])\n",
    "theo = np.array([])\n",
    "f = interp1d(T,step, kind='next',fill_value=\"extrapolate\", assume_sorted=False)\n",
    "for i in x:\n",
    "    my = np.append(my,quad_piecewise(f,T,i,6))\n",
    "    theo = np.append(theo, quad(f,i,6,limit=500)[0])\n",
    "    \n",
    "plt.scatter(x,abs(my-theo))\n",
    "plt.show()"
   ]
  },
  {
   "cell_type": "markdown",
   "metadata": {},
   "source": [
    "#### Test with a complex step function"
   ]
  },
  {
   "cell_type": "code",
   "execution_count": 20,
   "metadata": {},
   "outputs": [
    {
     "name": "stdout",
     "output_type": "stream",
     "text": [
      "zero interest rate time grid [ 0.  3.  6. 10.]\n",
      "zero interest rate:  [0.01  0.01  0.019 0.012]\n",
      "Forward repo time grid [0. 2. 6.]\n",
      "Forward repo rate:  [0.0032  0.00365 0.003  ]\n",
      "Forward volatility time grid:  [0. 2. 5.]\n",
      "Forward volatility:  [0.2        0.20990474 0.23316089]\n",
      "Forward repo time grid [0. 3. 6.]\n",
      "Forward repo rate:  [0.0021  0.0019  0.00325]\n",
      "Forward volatility time grid:  [0. 2. 6.]\n",
      "Forward volatility:  [0.3        0.31488093 0.34909325]\n",
      "Forward repo time grid [0. 2. 5.]\n",
      "Forward repo rate:  [0.001      0.00216667 0.00228   ]\n",
      "Forward volatility time grid:  [0. 3. 7.]\n",
      "Forward volatility:  [0.25       0.21377558 0.19467922]\n",
      "Forward repo time grid [0. 5.]\n",
      "Forward repo rate:  [0.002  0.0028]\n",
      "Forward volatility time grid:  [0. 2. 6.]\n",
      "Forward volatility:  [0.15       0.16477257 0.1029563 ]\n"
     ]
    }
   ],
   "source": [
    "N_equity = 4                                #number of equities\n",
    "T_max = 10\n",
    "t = 0.                                      #pricing date\n",
    "spot_price = np.array([110,120,97,133])            #spot price of the two assets\n",
    "corr = np.array(([1,0.15,0.10,0.20],[0.15,1.,-0.05,0.18],[0.1,-0.05,1.,0.13],[0.20,0.18,0.13,1]))       #correlation matrix\n",
    "minus = 1\n",
    "\"\"\"Market Discount factors\"\"\"\n",
    "r_t = np.array([1,1,1.9,1.2])/100            \n",
    "T_discounts = np.array([0.,3,6.,T_max])      #data observation of the market discounts factor\n",
    "market_discounts = exp(-r_t*T_discounts)       #market discounts factor\n",
    "\n",
    "\"\"\"Market repo rates\"\"\"  #https://tradingeconomics.com/united-states/repo-rate\n",
    "T_repo1 = np.array([2,6,T_max])       #data observation of the market repo rates for equity 1\n",
    "repo_rate1 = minus*np.array([0.32,0.35,0.33])/100  #market repo rates for equity 1\n",
    "\n",
    "\n",
    "T_repo2 = np.array([3.,6.,T_max])\n",
    "repo_rate2 = minus*np.array([0.21,0.2,0.25])/100\n",
    "\n",
    "T_repo3 = np.array([2.,5.,T_max])\n",
    "repo_rate3 = minus*np.array([0.1,0.17,0.199])/100\n",
    "\n",
    "T_repo4 = np.array([5,T_max])\n",
    "repo_rate4 = minus*np.array([0.2,0.24])/100\n",
    "\n",
    "\n",
    "for i in range(N_equity):                   #dimensional check between time and market data\n",
    "    a = globals()[\"repo_rate\" + str(i+1)]\n",
    "    b = globals()[\"T_repo\" + str(i+1)]\n",
    "    if(a.shape!=b.shape):\n",
    "        raise Exception(\"WARNING: Different dimension between data and value for repo rates of asset \"+str(i+1))\n",
    "        \n",
    "\"\"\"Spot Volatilities\"\"\"\n",
    "sigma1 = np.array([20,20.6,22])/100\n",
    "T_sigma1 = np.array([2,5.,T_max])\n",
    "K1 = np.array([spot_price[0],200])\n",
    "spot_vola1 = np.array((sigma1,sigma1))                                      #market implied volatility matrix\n",
    "\n",
    "sigma2 = np.array([30,31,32.62])/100\n",
    "T_sigma2 =  np.array([2.,6,T_max])\n",
    "K2 = np.array([spot_price[1],200])\n",
    "spot_vola2 = np.array((sigma2,sigma2))  \n",
    "\n",
    "sigma3 = np.array([25,23,22])/100\n",
    "T_sigma3 = np.array([3,7.,T_max])\n",
    "K3 = np.array([spot_price[2],200])\n",
    "spot_vola3 = np.array((sigma3,sigma3))  \n",
    "\n",
    "sigma4 = np.array([15,16,14])/100\n",
    "T_sigma4 =  np.array([2,6.,T_max])\n",
    "K4 = np.array([spot_price[3],200])\n",
    "spot_vola4 = np.array((sigma4,sigma4))  \n",
    "\n",
    "for i in range(N_equity):                   #dimensional check between time and market data\n",
    "    a = globals()[\"sigma\" + str(i+1)]\n",
    "    b = globals()[\"T_sigma\" + str(i+1)]\n",
    "    if(a.shape!=b.shape):\n",
    "        raise Exception(\"WARNING: Different dimension between data and value for volatility of asset \"+str(i+1))\n",
    "        \n",
    "D = DiscountingCurve(reference=t, discounts=market_discounts,dates=T_discounts)\n",
    "F = np.array([])\n",
    "V = np.array([])\n",
    "for i in range(N_equity):\n",
    "    q = globals()[\"repo_rate\" + str(i+1)]\n",
    "    T_q = globals()[\"T_repo\" + str(i+1)]\n",
    "    s_vola = globals()[\"spot_vola\" + str(i+1)]\n",
    "    T_vola = globals()[\"T_sigma\" + str(i+1)]\n",
    "    K = globals()[\"K\" + str(i+1)]\n",
    "    F = np.append(F,EquityForwardCurve(reference=t,spot=spot_price[i],discounting_curve=D,repo_dates=T_q,repo_rates=q))\n",
    "    V = np.append(V,ForwardVariance(reference=t,spot_volatility=s_vola,strikes=K,maturities=T_vola,strike_interp=spot_price[i]))"
   ]
  },
  {
   "cell_type": "code",
   "execution_count": 21,
   "metadata": {},
   "outputs": [
    {
     "name": "stdout",
     "output_type": "stream",
     "text": [
      "Drift time grid: [0. 2. 3. 5. 6.]\n",
      "Drift values: [[0.0032     0.0021     0.001      0.002     ]\n",
      " [0.00365    0.0021     0.00216667 0.002     ]\n",
      " [0.00365    0.0019     0.00216667 0.002     ]\n",
      " [0.00365    0.0019     0.00228    0.0028    ]\n",
      " [0.003      0.00325    0.00228    0.0028    ]]\n",
      "Cholesky covariance-variance time grid: [0. 2. 3. 5. 6. 7.]\n",
      "Cholesky covariance-variance matrix values: [[[ 0.2         0.20990474  0.20990474  0.23316089  0.23316089\n",
      "    0.23316089]\n",
      "  [ 0.          0.          0.          0.          0.\n",
      "    0.        ]\n",
      "  [ 0.          0.          0.          0.          0.\n",
      "    0.        ]\n",
      "  [ 0.          0.          0.          0.          0.\n",
      "    0.        ]]\n",
      "\n",
      " [[ 0.045       0.04723214  0.04723214  0.04723214  0.05236399\n",
      "    0.05236399]\n",
      "  [ 0.2966058   0.31131837  0.31131837  0.31131837  0.34514361\n",
      "    0.34514361]\n",
      "  [ 0.          0.          0.          0.          0.\n",
      "    0.        ]\n",
      "  [ 0.          0.          0.          0.          0.\n",
      "    0.        ]]\n",
      "\n",
      " [[ 0.025       0.025       0.02137756  0.02137756  0.02137756\n",
      "    0.01946792]\n",
      "  [-0.01643596 -0.01643596 -0.01405442 -0.01405442 -0.01405442\n",
      "   -0.01279896]\n",
      "  [ 0.24820326  0.24820326  0.21223919  0.21223919  0.21223919\n",
      "    0.19328007]\n",
      "  [ 0.          0.          0.          0.          0.\n",
      "    0.        ]]\n",
      "\n",
      " [[ 0.03        0.03295451  0.03295451  0.03295451  0.02059126\n",
      "    0.02059126]\n",
      "  [ 0.02275748  0.02499872  0.02499872  0.02499872  0.01562017\n",
      "    0.01562017]\n",
      "  [ 0.01812644  0.0199116   0.0199116   0.0199116   0.01244154\n",
      "    0.01244154]\n",
      "  [ 0.14406085  0.15824851  0.15824851  0.15824851  0.09887982\n",
      "    0.09887982]]]\n",
      "Markowitz strategy time grid : [0. 2. 3. 5. 6. 7.]\n",
      "Markowitz strategy :  [[-3.45517178 -0.56731187 -0.31913128 -3.39656999]\n",
      " [-3.38577698 -0.520106   -1.23006044 -2.27907558]\n",
      " [-3.3100412  -0.42874694 -1.73432789 -2.21165431]\n",
      " [-2.26279466 -0.32012128 -1.63492707 -3.55012741]\n",
      " [-0.97766287 -0.42150242 -1.12886293 -8.00955464]\n",
      " [-0.95506928 -0.42664409 -1.41552726 -7.89096267]]\n",
      "Target volatility:  0.13073111718332403\n",
      "Spot price  460\n",
      "Dates  [0.  2.  3.  5.  6.  9.9]\n"
     ]
    }
   ],
   "source": [
    "mu = Drift(F)\n",
    "nu = CholeskyTDependent(V,corr)\n",
    "alpha = Strategy()\n",
    "alpha.Mark_strategy(mu=mu,nu=nu)\n",
    "I_0 = np.sum(spot_price)\n",
    "vol_target = 1/N_equity*sqrt(np.sum(nu(0.)@nu(0.).T))\n",
    "print(\"Target volatility: \",vol_target)\n",
    "dates = alpha.T\n",
    "dates = np.delete(dates,len(alpha.T)-1)\n",
    "dates = np.append(dates,9.9)\n",
    "K = I_0   #ATM pricing\n",
    "simulations = 1e6\n",
    "kind = 1 #call option\n",
    "print(\"Spot price \",I_0)\n",
    "print(\"Dates \",dates)"
   ]
  },
  {
   "cell_type": "code",
   "execution_count": 22,
   "metadata": {},
   "outputs": [
    {
     "data": {
      "image/png": "[encoded data removed]",
      "text/plain": [
       "<Figure size 432x288 with 1 Axes>"
      ]
     },
     "metadata": {
      "needs_background": "light"
     },
     "output_type": "display_data"
    }
   ],
   "source": [
    "l = lambda x: vol_target*((alpha(x)@mu(x))/np.linalg.norm(alpha(x)@nu(x)))\n",
    "\n",
    "y = np.linspace(0,9,200)\n",
    "f = np.array([])\n",
    "for i in y:\n",
    "    f = np.append(f,l(i))\n",
    "plt.plot(y,f)\n",
    "plt.show()"
   ]
  },
  {
   "cell_type": "code",
   "execution_count": 23,
   "metadata": {},
   "outputs": [
    {
     "name": "stdout",
     "output_type": "stream",
     "text": [
      "[0. 2. 3. 5. 6. 7.]\n",
      "my integration  -0.029482539195392385\n",
      "quad integration -0.027784960280329292\n",
      "difference  -0.001697578915063093\n",
      "CPU times: user 474 ms, sys: 62.3 ms, total: 537 ms\n",
      "Wall time: 451 ms\n"
     ]
    }
   ],
   "source": [
    "%%time\n",
    "print(alpha.T)\n",
    "a = 0\n",
    "b = 9.\n",
    "my = quad_piecewise(l,alpha.T,a,b,vectorial=1)\n",
    "theo = quad(l,a,b, limit=500)[0]\n",
    "print(\"my integration \",my)\n",
    "print(\"quad integration\",theo)\n",
    "print(\"difference \",my - theo)"
   ]
  },
  {
   "cell_type": "code",
   "execution_count": 24,
   "metadata": {},
   "outputs": [
    {
     "name": "stdout",
     "output_type": "stream",
     "text": [
      "[0.1        0.56842105 1.03684211 1.50526316 1.97368421 2.44210526\n",
      " 2.91052632 3.37894737 3.84736842 4.31578947 4.78421053 5.25263158\n",
      " 5.72105263 6.18947368 6.65789474 7.12631579 7.59473684 8.06315789\n",
      " 8.53157895 9.        ]\n",
      "[0.         0.         0.         0.         0.         0.00034341\n",
      " 0.00034339 0.00039608 0.00039618 0.00039619 0.00039619 0.00077743\n",
      " 0.00077743 0.00166222 0.00166222 0.00169758 0.00169758 0.00169758\n",
      " 0.00169758 0.00169758]\n"
     ]
    },
    {
     "data": {
      "image/png": "[encoded data removed]",
      "text/plain": [
       "<Figure size 432x288 with 1 Axes>"
      ]
     },
     "metadata": {
      "needs_background": "light"
     },
     "output_type": "display_data"
    },
    {
     "name": "stdout",
     "output_type": "stream",
     "text": [
      "CPU times: user 5.3 s, sys: 384 ms, total: 5.69 s\n",
      "Wall time: 5.25 s\n"
     ]
    }
   ],
   "source": [
    "%%time\n",
    "y = np.linspace(0.1,9.,20)\n",
    "print(y)\n",
    "my = np.array([])\n",
    "theo = np.array([])\n",
    "for i in y:\n",
    "    my = np.append(my,quad_piecewise(l,alpha.T,0,i,vectorial=1))\n",
    "    theo = np.append(theo, quad(l,0,i,limit=500)[0])\n",
    "    \n",
    "plt.scatter(x,abs(my-theo))\n",
    "print(abs(my-theo))\n",
    "plt.show()"
   ]
  },
  {
   "cell_type": "code",
   "execution_count": 8,
   "metadata": {},
   "outputs": [
    {
     "data": {
      "text/plain": [
       "array([2.52      , 2.46842105, 2.41684211, 2.36526316, 2.30052632,\n",
       "       2.22315789, 2.14578947, 2.06842105, 2.00084211, 1.93894737,\n",
       "       1.87705263, 1.81515789, 1.66368421, 1.48315789, 1.30263158,\n",
       "       1.12210526, 0.94157895, 0.76105263, 0.62894737, 0.5       ])"
      ]
     },
     "execution_count": 8,
     "metadata": {},
     "output_type": "execute_result"
    }
   ],
   "source": [
    "my"
   ]
  },
  {
   "cell_type": "code",
   "execution_count": 9,
   "metadata": {},
   "outputs": [
    {
     "data": {
      "text/plain": [
       "array([2.52      , 2.46842105, 2.41684211, 2.36526316, 2.30052631,\n",
       "       2.2231579 , 2.14578947, 2.06842106, 2.0008421 , 1.93894737,\n",
       "       1.87705263, 1.81515789, 1.66368421, 1.48315789, 1.30263157,\n",
       "       1.12210528, 0.94157896, 0.76105263, 0.62894737, 0.5       ])"
      ]
     },
     "execution_count": 9,
     "metadata": {},
     "output_type": "execute_result"
    }
   ],
   "source": [
    "theo"
   ]
  },
  {
   "cell_type": "code",
   "execution_count": null,
   "metadata": {},
   "outputs": [],
   "source": []
  }
 ],
 "metadata": {
  "kernelspec": {
   "display_name": "Python 3",
   "language": "python",
   "name": "python3"
  },
  "language_info": {
   "codemirror_mode": {
    "name": "ipython",
    "version": 3
   },
   "file_extension": ".py",
   "mimetype": "text/x-python",
   "name": "python",
   "nbconvert_exporter": "python",
   "pygments_lexer": "ipython3",
   "version": "3.6.8"
  }
 },
 "nbformat": 4,
 "nbformat_minor": 2
}
