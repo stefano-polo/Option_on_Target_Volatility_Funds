{
 "cells": [
  {
   "cell_type": "code",
   "execution_count": 20,
   "metadata": {},
   "outputs": [],
   "source": [
    "import numpy as np\n",
    "import matplotlib.pyplot as plt\n",
    "from pricing import EquityForwardCurve, ForwardVariance, DiscountingCurve,piecewise_function,Vanilla_PayOff,PricingModel, piecewise_function\n",
    "from numpy import exp, sqrt, log\n",
    "from scipy.interpolate import interp1d\n",
    "import lets_be_rational.LetsBeRational as lbr\n",
    "import time, sys\n",
    "from montecarlo import MC_Analisys, MC\n",
    "from matplotlib import ticker\n",
    "from scipy.integrate import quad\n",
    "from targetvol import time_grid_union, Drift, CholeskyTDependent, Strategy,TVSForwardCurve ,TargetVolatilityStrategy,Markowitz_solution,loss_function\n",
    "from numpy.linalg import cholesky"
   ]
  },
  {
   "cell_type": "code",
   "execution_count": 21,
   "metadata": {},
   "outputs": [],
   "source": [
    "def piecewise(x,T,a):\n",
    "    mask = np.array([])\n",
    "    mask = np.append(mask,(x>=0) & (x<T[0]))\n",
    "    for i in range(1,len(T)):\n",
    "        mask= np.append(mask,(x>=T[i-1]) & (x<T[i]))\n",
    "    b = 0\n",
    "    for i in range(len(T)):\n",
    "        b = b+ a[i]*mask[i]\n",
    "    return b\n",
    "\n",
    "def step_function_integration1(f, time_grid, t_in, t_fin):\n",
    "    y = np.array([])\n",
    "    dt = np.array([])\n",
    "    if t_fin in time_grid:\n",
    "        time_grid = time_grid[np.where(time_grid<=t_fin)[0]]\n",
    "    if t_in in time_grid:\n",
    "        time_grid = time_grid[np.where(time_grid>=t_in)[0]]\n",
    "    if t_in not in time_grid:\n",
    "        time_grid = time_grid[np.where(time_grid>t_in)[0]]\n",
    "        time_grid = np.insert(time_grid,0,t_in)\n",
    "    if t_fin not in time_grid:\n",
    "        time_grid = time_grid[np.where(time_grid<t_fin)[0]]\n",
    "        time_grid = np.insert(time_grid,len(time_grid),t_fin)\n",
    "    for i in range(len(time_grid)-1):\n",
    "        y = np.append(y,f(time_grid[i]))\n",
    "    dt = np.diff(time_grid)\n",
    "    return np.sum(y*dt)"
   ]
  },
  {
   "cell_type": "code",
   "execution_count": 26,
   "metadata": {},
   "outputs": [],
   "source": [
    "def quad_piecewise_NEW(f, time_grid, t_in, t_fin):\n",
    "    \"\"\"integral of a piecewise constant function\"\"\"\n",
    "    dt = np.array([])\n",
    "    if t_in == t_fin:\n",
    "        return 0\n",
    "    if t_fin in time_grid:\n",
    "        time_grid = time_grid[np.where(time_grid<=t_fin)[0]]\n",
    "    if t_in in time_grid:\n",
    "        time_grid = time_grid[np.where(time_grid>=t_in)[0]]\n",
    "    if t_in not in time_grid:\n",
    "        time_grid = time_grid[np.where(time_grid>t_in)[0]]\n",
    "        time_grid = np.insert(time_grid,0,t_in)\n",
    "    if t_fin not in time_grid:\n",
    "        time_grid = time_grid[np.where(time_grid<t_fin)[0]]\n",
    "        time_grid = np.insert(time_grid,len(time_grid),t_fin)\n",
    "    y = f(time_grid[1:])\n",
    "    dt = np.diff(time_grid)\n",
    "    return np.sum(y*dt)\n"
   ]
  },
  {
   "cell_type": "markdown",
   "metadata": {},
   "source": [
    "#### Test with a simple step function"
   ]
  },
  {
   "cell_type": "code",
   "execution_count": 27,
   "metadata": {},
   "outputs": [
    {
     "data": {
      "image/png": "[encoded data removed]",
      "text/plain": [
       "<Figure size 432x288 with 1 Axes>"
      ]
     },
     "metadata": {
      "needs_background": "light"
     },
     "output_type": "display_data"
    },
    {
     "name": "stdout",
     "output_type": "stream",
     "text": [
      "CPU times: user 1.66 s, sys: 16.1 ms, total: 1.68 s\n",
      "Wall time: 1.66 s\n"
     ]
    }
   ],
   "source": [
    "%%time\n",
    "T = np.array([1,2,3,4.5,6])\n",
    "step = np.array([0.2,0.3,0.24,0.7,0.5])\n",
    "\n",
    "f = lambda x: piecewise(x,T,step)\n",
    "x = np.linspace(0.1,5,20)\n",
    "my = np.array([])\n",
    "theo = np.array([])\n",
    "for i in x:\n",
    "    my = np.append(my,step_function_integration1(f,T,0,i))\n",
    "    theo = np.append(theo, quad(f,0,i,limit=500)[0])\n",
    "    \n",
    "plt.scatter(x,abs(my-theo))\n",
    "plt.show()"
   ]
  },
  {
   "cell_type": "code",
   "execution_count": 28,
   "metadata": {},
   "outputs": [],
   "source": [
    "f = interp1d(T,step, kind='next',fill_value=\"extrapolate\", assume_sorted=False)"
   ]
  },
  {
   "cell_type": "code",
   "execution_count": 29,
   "metadata": {},
   "outputs": [
    {
     "data": {
      "image/png": "[encoded data removed]",
      "text/plain": [
       "<Figure size 432x288 with 1 Axes>"
      ]
     },
     "metadata": {
      "needs_background": "light"
     },
     "output_type": "display_data"
    }
   ],
   "source": [
    "x = np.linspace(0.1,5,20)\n",
    "my = np.array([])\n",
    "theo = np.array([])\n",
    "for i in x:\n",
    "    my = np.append(my,quad_piecewise_NEW(f,T,0,i))\n",
    "    theo = np.append(theo, quad(f,0,i,limit=500)[0])\n",
    "    \n",
    "plt.scatter(x,abs(my-theo))\n",
    "plt.show()"
   ]
  },
  {
   "cell_type": "code",
   "execution_count": null,
   "metadata": {},
   "outputs": [],
   "source": [
    "%%time\n",
    "T = np.array([1,2,3,4.5,6])\n",
    "step = np.array([0.2,0.3,0.24,0.7,0.5])\n",
    "\n",
    "f = lambda x: piecewise(x,T,step)\n",
    "x = np.linspace(0.1,5,20)\n",
    "my = np.array([])\n",
    "theo = np.array([])\n",
    "for i in x:\n",
    "    my = np.append(my,step_function_integration1(f,T,0,i))\n",
    "    theo = np.append(theo, quad(f,0,i,limit=500)[0])\n",
    "    \n",
    "plt.scatter(x,abs(my-theo))\n",
    "plt.show()"
   ]
  },
  {
   "cell_type": "code",
   "execution_count": 5,
   "metadata": {},
   "outputs": [
    {
     "data": {
      "image/png": "[encoded data removed]",
      "text/plain": [
       "<Figure size 432x288 with 1 Axes>"
      ]
     },
     "metadata": {
      "needs_background": "light"
     },
     "output_type": "display_data"
    },
    {
     "name": "stdout",
     "output_type": "stream",
     "text": [
      "CPU times: user 1.95 s, sys: 45 ms, total: 2 s\n",
      "Wall time: 1.94 s\n"
     ]
    }
   ],
   "source": [
    "%%time\n",
    "T = np.array([1,2,3,4.5,6])\n",
    "step = np.array([0.2,0.3,0.24,0.7,0.5])\n",
    "\n",
    "f = lambda x: piecewise(x,T,step)\n",
    "x = np.linspace(0.1,5,20)\n",
    "my = np.array([])\n",
    "theo = np.array([])\n",
    "for i in x:\n",
    "    my = np.append(my,step_function_integration1(f,T,i,6))\n",
    "    theo = np.append(theo, quad(f,i,6,limit=500)[0])\n",
    "    \n",
    "plt.scatter(x,abs(my-theo))\n",
    "plt.show()"
   ]
  },
  {
   "cell_type": "markdown",
   "metadata": {},
   "source": [
    "#### Test with a complex step function"
   ]
  },
  {
   "cell_type": "code",
   "execution_count": 6,
   "metadata": {},
   "outputs": [
    {
     "name": "stdout",
     "output_type": "stream",
     "text": [
      "zero interest rate time grid [ 0.  3.  6. 10.]\n",
      "zero interest rate:  [0.01  0.01  0.019 0.012]\n",
      "Forward repo time grid [ 2.  6. 10.]\n",
      "Forward repo rate:  [0.0032  0.00365 0.003  ]\n",
      "Forward volatility time grid:  [ 2.  5. 10.]\n",
      "Forward volatility:  [0.2        0.20990474 0.23316089]\n",
      "Forward repo time grid [ 3.  6. 10.]\n",
      "Forward repo rate:  [0.0021  0.0019  0.00325]\n",
      "Forward volatility time grid:  [ 2.  6. 10.]\n",
      "Forward volatility:  [0.3        0.31488093 0.34909325]\n",
      "Forward repo time grid [ 2.  5. 10.]\n",
      "Forward repo rate:  [0.001      0.00216667 0.00228   ]\n",
      "Forward volatility time grid:  [ 3.  7. 10.]\n",
      "Forward volatility:  [0.25       0.21377558 0.19467922]\n",
      "Forward repo time grid [ 5. 10.]\n",
      "Forward repo rate:  [0.002  0.0028]\n",
      "Forward volatility time grid:  [ 2.  6. 10.]\n",
      "Forward volatility:  [0.15       0.16477257 0.1029563 ]\n"
     ]
    }
   ],
   "source": [
    "N_equity = 4                                #number of equities\n",
    "T_max = 10\n",
    "t = 0.                                      #pricing date\n",
    "spot_price = np.array([110,120,97,133])            #spot price of the two assets\n",
    "corr = np.array(([1,0.15,0.10,0.20],[0.15,1.,-0.05,0.18],[0.1,-0.05,1.,0.13],[0.20,0.18,0.13,1]))       #correlation matrix\n",
    "minus = 1\n",
    "\"\"\"Market Discount factors\"\"\"\n",
    "r_t = np.array([1,1,1.9,1.2])/100            \n",
    "T_discounts = np.array([0.,3,6.,T_max])      #data observation of the market discounts factor\n",
    "market_discounts = exp(-r_t*T_discounts)       #market discounts factor\n",
    "\n",
    "\"\"\"Market repo rates\"\"\"  #https://tradingeconomics.com/united-states/repo-rate\n",
    "T_repo1 = np.array([2,6,T_max])       #data observation of the market repo rates for equity 1\n",
    "repo_rate1 = minus*np.array([0.32,0.35,0.33])/100  #market repo rates for equity 1\n",
    "\n",
    "\n",
    "T_repo2 = np.array([3.,6.,T_max])\n",
    "repo_rate2 = minus*np.array([0.21,0.2,0.25])/100\n",
    "\n",
    "T_repo3 = np.array([2.,5.,T_max])\n",
    "repo_rate3 = minus*np.array([0.1,0.17,0.199])/100\n",
    "\n",
    "T_repo4 = np.array([5,T_max])\n",
    "repo_rate4 = minus*np.array([0.2,0.24])/100\n",
    "\n",
    "\n",
    "for i in range(N_equity):                   #dimensional check between time and market data\n",
    "    a = globals()[\"repo_rate\" + str(i+1)]\n",
    "    b = globals()[\"T_repo\" + str(i+1)]\n",
    "    if(a.shape!=b.shape):\n",
    "        raise Exception(\"WARNING: Different dimension between data and value for repo rates of asset \"+str(i+1))\n",
    "        \n",
    "\"\"\"Spot Volatilities\"\"\"\n",
    "sigma1 = np.array([20,20.6,22])/100\n",
    "T_sigma1 = np.array([2,5.,T_max])\n",
    "K1 = np.array([spot_price[0],200])\n",
    "spot_vola1 = np.array((sigma1,sigma1))                                      #market implied volatility matrix\n",
    "\n",
    "sigma2 = np.array([30,31,32.62])/100\n",
    "T_sigma2 =  np.array([2.,6,T_max])\n",
    "K2 = np.array([spot_price[1],200])\n",
    "spot_vola2 = np.array((sigma2,sigma2))  \n",
    "\n",
    "sigma3 = np.array([25,23,22])/100\n",
    "T_sigma3 = np.array([3,7.,T_max])\n",
    "K3 = np.array([spot_price[2],200])\n",
    "spot_vola3 = np.array((sigma3,sigma3))  \n",
    "\n",
    "sigma4 = np.array([15,16,14])/100\n",
    "T_sigma4 =  np.array([2,6.,T_max])\n",
    "K4 = np.array([spot_price[3],200])\n",
    "spot_vola4 = np.array((sigma4,sigma4))  \n",
    "\n",
    "for i in range(N_equity):                   #dimensional check between time and market data\n",
    "    a = globals()[\"sigma\" + str(i+1)]\n",
    "    b = globals()[\"T_sigma\" + str(i+1)]\n",
    "    if(a.shape!=b.shape):\n",
    "        raise Exception(\"WARNING: Different dimension between data and value for volatility of asset \"+str(i+1))\n",
    "        \n",
    "D = DiscountingCurve(reference=t, discounts=market_discounts,dates=T_discounts)\n",
    "F = np.array([])\n",
    "V = np.array([])\n",
    "for i in range(N_equity):\n",
    "    q = globals()[\"repo_rate\" + str(i+1)]\n",
    "    T_q = globals()[\"T_repo\" + str(i+1)]\n",
    "    s_vola = globals()[\"spot_vola\" + str(i+1)]\n",
    "    T_vola = globals()[\"T_sigma\" + str(i+1)]\n",
    "    K = globals()[\"K\" + str(i+1)]\n",
    "    F = np.append(F,EquityForwardCurve(reference=t,spot=spot_price[i],discounting_curve=D,repo_dates=T_q,repo_rates=q))\n",
    "    V = np.append(V,ForwardVariance(reference=t,spot_volatility=s_vola,strikes=K,maturities=T_vola,strike_interp=spot_price[i]))"
   ]
  },
  {
   "cell_type": "code",
   "execution_count": 7,
   "metadata": {},
   "outputs": [
    {
     "ename": "TypeError",
     "evalue": "'interp1d' object does not support indexing",
     "output_type": "error",
     "traceback": [
      "\u001b[0;31m---------------------------------------------------------------------------\u001b[0m",
      "\u001b[0;31mTypeError\u001b[0m                                 Traceback (most recent call last)",
      "\u001b[0;32m<ipython-input-7-ca56b573d6e6>\u001b[0m in \u001b[0;36m<module>\u001b[0;34m\u001b[0m\n\u001b[0;32m----> 1\u001b[0;31m \u001b[0mmu\u001b[0m \u001b[0;34m=\u001b[0m \u001b[0mDrift\u001b[0m\u001b[0;34m(\u001b[0m\u001b[0mF\u001b[0m\u001b[0;34m)\u001b[0m\u001b[0;34m\u001b[0m\u001b[0;34m\u001b[0m\u001b[0m\n\u001b[0m\u001b[1;32m      2\u001b[0m \u001b[0mnu\u001b[0m \u001b[0;34m=\u001b[0m \u001b[0mCholeskyTDependent\u001b[0m\u001b[0;34m(\u001b[0m\u001b[0mV\u001b[0m\u001b[0;34m,\u001b[0m\u001b[0mcorr\u001b[0m\u001b[0;34m)\u001b[0m\u001b[0;34m\u001b[0m\u001b[0;34m\u001b[0m\u001b[0m\n\u001b[1;32m      3\u001b[0m \u001b[0malpha\u001b[0m \u001b[0;34m=\u001b[0m \u001b[0mStrategy\u001b[0m\u001b[0;34m(\u001b[0m\u001b[0;34m)\u001b[0m\u001b[0;34m\u001b[0m\u001b[0;34m\u001b[0m\u001b[0m\n\u001b[1;32m      4\u001b[0m \u001b[0malpha\u001b[0m\u001b[0;34m.\u001b[0m\u001b[0mMark_strategy\u001b[0m\u001b[0;34m(\u001b[0m\u001b[0mmu\u001b[0m\u001b[0;34m=\u001b[0m\u001b[0mmu\u001b[0m\u001b[0;34m,\u001b[0m\u001b[0mnu\u001b[0m\u001b[0;34m=\u001b[0m\u001b[0mnu\u001b[0m\u001b[0;34m)\u001b[0m\u001b[0;34m\u001b[0m\u001b[0;34m\u001b[0m\u001b[0m\n\u001b[1;32m      5\u001b[0m \u001b[0mI_0\u001b[0m \u001b[0;34m=\u001b[0m \u001b[0mnp\u001b[0m\u001b[0;34m.\u001b[0m\u001b[0msum\u001b[0m\u001b[0;34m(\u001b[0m\u001b[0mspot_price\u001b[0m\u001b[0;34m)\u001b[0m\u001b[0;34m\u001b[0m\u001b[0;34m\u001b[0m\u001b[0m\n",
      "\u001b[0;32m~/Desktop/new_piecewise_functino/targetvol.py\u001b[0m in \u001b[0;36m__init__\u001b[0;34m(self, forward_curves)\u001b[0m\n\u001b[1;32m     19\u001b[0m             \u001b[0;32mfor\u001b[0m \u001b[0mj\u001b[0m \u001b[0;32min\u001b[0m \u001b[0mrange\u001b[0m\u001b[0;34m(\u001b[0m\u001b[0mNdim\u001b[0m\u001b[0;34m)\u001b[0m\u001b[0;34m:\u001b[0m\u001b[0;34m\u001b[0m\u001b[0;34m\u001b[0m\u001b[0m\n\u001b[1;32m     20\u001b[0m                 \u001b[0;32mif\u001b[0m \u001b[0mi\u001b[0m \u001b[0;34m==\u001b[0m\u001b[0;36m0\u001b[0m\u001b[0;34m:\u001b[0m\u001b[0;34m\u001b[0m\u001b[0;34m\u001b[0m\u001b[0m\n\u001b[0;32m---> 21\u001b[0;31m                     \u001b[0mmu_zero\u001b[0m\u001b[0;34m[\u001b[0m\u001b[0mi\u001b[0m\u001b[0;34m,\u001b[0m\u001b[0mj\u001b[0m\u001b[0;34m]\u001b[0m \u001b[0;34m=\u001b[0m \u001b[0mforward_curves\u001b[0m\u001b[0;34m[\u001b[0m\u001b[0mj\u001b[0m\u001b[0;34m]\u001b[0m\u001b[0;34m.\u001b[0m\u001b[0mq\u001b[0m\u001b[0;34m[\u001b[0m\u001b[0;36m0\u001b[0m\u001b[0;34m]\u001b[0m\u001b[0;34m\u001b[0m\u001b[0;34m\u001b[0m\u001b[0m\n\u001b[0m\u001b[1;32m     22\u001b[0m                 \u001b[0;32melse\u001b[0m\u001b[0;34m:\u001b[0m\u001b[0;34m\u001b[0m\u001b[0;34m\u001b[0m\u001b[0m\n\u001b[1;32m     23\u001b[0m                     \u001b[0mmu_zero\u001b[0m\u001b[0;34m[\u001b[0m\u001b[0mi\u001b[0m\u001b[0;34m,\u001b[0m\u001b[0mj\u001b[0m\u001b[0;34m]\u001b[0m \u001b[0;34m=\u001b[0m \u001b[0;34m(\u001b[0m\u001b[0;36m1\u001b[0m\u001b[0;34m/\u001b[0m\u001b[0;34m(\u001b[0m\u001b[0;34m-\u001b[0m\u001b[0mself\u001b[0m\u001b[0;34m.\u001b[0m\u001b[0mT\u001b[0m\u001b[0;34m[\u001b[0m\u001b[0mi\u001b[0m\u001b[0;34m]\u001b[0m\u001b[0;34m)\u001b[0m\u001b[0;34m)\u001b[0m\u001b[0;34m*\u001b[0m\u001b[0mlog\u001b[0m\u001b[0;34m(\u001b[0m\u001b[0;34m(\u001b[0m\u001b[0mforward_curves\u001b[0m\u001b[0;34m[\u001b[0m\u001b[0mj\u001b[0m\u001b[0;34m]\u001b[0m\u001b[0;34m(\u001b[0m\u001b[0mself\u001b[0m\u001b[0;34m.\u001b[0m\u001b[0mT\u001b[0m\u001b[0;34m[\u001b[0m\u001b[0mi\u001b[0m\u001b[0;34m]\u001b[0m\u001b[0;34m)\u001b[0m\u001b[0;34m*\u001b[0m\u001b[0mforward_curves\u001b[0m\u001b[0;34m[\u001b[0m\u001b[0mj\u001b[0m\u001b[0;34m]\u001b[0m\u001b[0;34m.\u001b[0m\u001b[0mdiscounting_curve\u001b[0m\u001b[0;34m(\u001b[0m\u001b[0mself\u001b[0m\u001b[0;34m.\u001b[0m\u001b[0mT\u001b[0m\u001b[0;34m[\u001b[0m\u001b[0mi\u001b[0m\u001b[0;34m]\u001b[0m\u001b[0;34m)\u001b[0m\u001b[0;34m)\u001b[0m\u001b[0;34m/\u001b[0m\u001b[0mforward_curves\u001b[0m\u001b[0;34m[\u001b[0m\u001b[0mj\u001b[0m\u001b[0;34m]\u001b[0m\u001b[0;34m.\u001b[0m\u001b[0mspot\u001b[0m\u001b[0;34m)\u001b[0m\u001b[0;34m\u001b[0m\u001b[0;34m\u001b[0m\u001b[0m\n",
      "\u001b[0;31mTypeError\u001b[0m: 'interp1d' object does not support indexing"
     ]
    }
   ],
   "source": [
    "mu = Drift(F)\n",
    "nu = CholeskyTDependent(V,corr)\n",
    "alpha = Strategy()\n",
    "alpha.Mark_strategy(mu=mu,nu=nu)\n",
    "I_0 = np.sum(spot_price)\n",
    "vol_target = 1/N_equity*sqrt(np.sum(nu(0.)@nu(0.).T))\n",
    "print(\"Target volatility: \",vol_target)\n",
    "dates = alpha.T\n",
    "dates = np.delete(dates,len(alpha.T)-1)\n",
    "dates = np.append(dates,9.9)\n",
    "K = I_0   #ATM pricing\n",
    "simulations = 1e6\n",
    "kind = 1 #call option\n",
    "print(\"Spot price \",I_0)\n",
    "print(\"Dates \",dates)"
   ]
  },
  {
   "cell_type": "code",
   "execution_count": null,
   "metadata": {},
   "outputs": [],
   "source": [
    "l = lambda x: vol_target*((alpha(x)@mu(x))/np.linalg.norm(alpha(x)@nu(x)))\n",
    "\n",
    "y = np.linspace(0,9,200)\n",
    "f = np.array([])\n",
    "for i in y:\n",
    "    f = np.append(f,l(i))\n",
    "plt.plot(y,f)\n",
    "plt.show()"
   ]
  },
  {
   "cell_type": "code",
   "execution_count": null,
   "metadata": {},
   "outputs": [],
   "source": [
    "%%time\n",
    "print(alpha.T)\n",
    "a = 0\n",
    "b = 9.\n",
    "my = step_function_integration1(l,alpha.T,a,b)\n",
    "theo = quad(l,a,b, limit=500)[0]\n",
    "print(\"my integration \",my)\n",
    "print(\"quad integration\",theo)\n",
    "print(\"difference \",my - theo)"
   ]
  },
  {
   "cell_type": "code",
   "execution_count": null,
   "metadata": {},
   "outputs": [],
   "source": [
    "%%time\n",
    "y = np.linspace(0.1,9.,20)\n",
    "print(y)\n",
    "my = np.array([])\n",
    "theo = np.array([])\n",
    "for i in y:\n",
    "    my = np.append(my,step_function_integration1(l,alpha.T,0,i))\n",
    "    theo = np.append(theo, quad(l,0,i,limit=500)[0])\n",
    "    \n",
    "plt.scatter(x,abs(my-theo))\n",
    "print(abs(my-theo))\n",
    "plt.show()"
   ]
  },
  {
   "cell_type": "code",
   "execution_count": 8,
   "metadata": {},
   "outputs": [
    {
     "data": {
      "text/plain": [
       "array([2.52      , 2.46842105, 2.41684211, 2.36526316, 2.30052632,\n",
       "       2.22315789, 2.14578947, 2.06842105, 2.00084211, 1.93894737,\n",
       "       1.87705263, 1.81515789, 1.66368421, 1.48315789, 1.30263158,\n",
       "       1.12210526, 0.94157895, 0.76105263, 0.62894737, 0.5       ])"
      ]
     },
     "execution_count": 8,
     "metadata": {},
     "output_type": "execute_result"
    }
   ],
   "source": [
    "my"
   ]
  },
  {
   "cell_type": "code",
   "execution_count": 9,
   "metadata": {},
   "outputs": [
    {
     "data": {
      "text/plain": [
       "array([2.52      , 2.46842105, 2.41684211, 2.36526316, 2.30052631,\n",
       "       2.2231579 , 2.14578947, 2.06842106, 2.0008421 , 1.93894737,\n",
       "       1.87705263, 1.81515789, 1.66368421, 1.48315789, 1.30263157,\n",
       "       1.12210528, 0.94157896, 0.76105263, 0.62894737, 0.5       ])"
      ]
     },
     "execution_count": 9,
     "metadata": {},
     "output_type": "execute_result"
    }
   ],
   "source": [
    "theo"
   ]
  },
  {
   "cell_type": "code",
   "execution_count": null,
   "metadata": {},
   "outputs": [],
   "source": []
  }
 ],
 "metadata": {
  "kernelspec": {
   "display_name": "Python 3",
   "language": "python",
   "name": "python3"
  },
  "language_info": {
   "codemirror_mode": {
    "name": "ipython",
    "version": 3
   },
   "file_extension": ".py",
   "mimetype": "text/x-python",
   "name": "python",
   "nbconvert_exporter": "python",
   "pygments_lexer": "ipython3",
   "version": "3.6.8"
  }
 },
 "nbformat": 4,
 "nbformat_minor": 2
}
